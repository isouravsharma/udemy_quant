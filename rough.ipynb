{
 "cells": [
  {
   "cell_type": "code",
   "execution_count": 2,
   "id": "15c16618-90d7-4507-8793-0e27c60c7942",
   "metadata": {},
   "outputs": [],
   "source": [
    "import pandas as pd\n",
    "import numpy as np"
   ]
  },
  {
   "cell_type": "code",
   "execution_count": 4,
   "id": "1f1c09b6-c404-4211-9d36-7b0eec329b8f",
   "metadata": {},
   "outputs": [],
   "source": [
    "a = pd.Series(np.arange(1,11))"
   ]
  },
  {
   "cell_type": "code",
   "execution_count": 39,
   "id": "e0ad6f63-ca25-4db0-b3f3-3ebb466564b8",
   "metadata": {},
   "outputs": [
    {
     "name": "stdout",
     "output_type": "stream",
     "text": [
      "Value of i = 1  * 1 = 1\n",
      "Value of i = 2  * 1 = 2\n",
      "Value of i = 3  * 2 = 6\n",
      "Value of i = 4  * 6 = 24\n",
      "Value of i = 5  * 24 = 120\n",
      "Value of i = 6  * 120 = 720\n",
      "Value of i = 7  * 720 = 5040\n",
      "Value of i = 8  * 5040 = 40320\n",
      "Value of i = 9  * 40320 = 362880\n",
      "Value of i = 10  * 362880 = 3628800\n"
     ]
    }
   ],
   "source": [
    "df = pd.DataFrame()\n",
    "temp = 1\n",
    "for i in a:\n",
    "\n",
    "    print(f\"Value of i = {i}  * {temp} = {temp*i}\")\n",
    "    temp = temp * i\n"
   ]
  },
  {
   "cell_type": "code",
   "execution_count": null,
   "id": "d1bd7976-70b1-44ff-b1be-5478b869e98d",
   "metadata": {},
   "outputs": [],
   "source": []
  }
 ],
 "metadata": {
  "kernelspec": {
   "display_name": "Python 3 (ipykernel)",
   "language": "python",
   "name": "python3"
  },
  "language_info": {
   "codemirror_mode": {
    "name": "ipython",
    "version": 3
   },
   "file_extension": ".py",
   "mimetype": "text/x-python",
   "name": "python",
   "nbconvert_exporter": "python",
   "pygments_lexer": "ipython3",
   "version": "3.11.7"
  }
 },
 "nbformat": 4,
 "nbformat_minor": 5
}
